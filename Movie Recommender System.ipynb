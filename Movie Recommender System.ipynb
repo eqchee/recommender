{
 "cells": [
  {
   "cell_type": "markdown",
   "metadata": {},
   "source": [
    "# Movie Recommender System\n",
    "\n",
    "***\n",
    "## About the Project\n",
    "\n",
    "Using ratings provided by users on movies they have watched, possible movie recommender systems have been developed using various concepts. A simple recommender has been developed to recommend the most popular movies based on general consensus. To improve the simple recommender, the genre of the top rated movies by any given user was also considered for the Genre-Based Popularity Recommender. Lastly, collaborative filtering was used to develop a deep learning model to make recommendations for any given user. \n",
    "\n",
    "***\n",
    "## Table of Content\n",
    "### 1. Setup\n",
    "### 2. Importing Data\n",
    "### 3. Popularity Recommender\n",
    "### 4. Genre-Based Popularity Recommender\n",
    "### 5. Collaborative Filtering Recommmender\n",
    "***"
   ]
  },
  {
   "cell_type": "markdown",
   "metadata": {},
   "source": [
    "## 1. Setup"
   ]
  },
  {
   "cell_type": "code",
   "execution_count": 71,
   "metadata": {},
   "outputs": [],
   "source": [
    "import pandas as pd\n",
    "import seaborn as sns\n",
    "from sklearn.model_selection import train_test_split\n",
    "from tensorflow.keras.models import Model\n",
    "from tensorflow.keras.layers import Input, Reshape, Dot, Embedding\n",
    "from tensorflow.keras.optimizers import Adam\n",
    "from tensorflow.keras.regularizers import l2\n",
    "import matplotlib.pyplot as plt"
   ]
  },
  {
   "cell_type": "markdown",
   "metadata": {},
   "source": [
    "## 2. Importing Data\n",
    "\n",
    "There are 2 datasets that will be used to develop a movie recommender system. \n",
    "1. movies.csv\n",
    "2. ratings.csv\n",
    "\n",
    "Let's import them to explore the data."
   ]
  },
  {
   "cell_type": "code",
   "execution_count": 72,
   "metadata": {},
   "outputs": [
    {
     "data": {
      "text/html": [
       "<div>\n",
       "<style scoped>\n",
       "    .dataframe tbody tr th:only-of-type {\n",
       "        vertical-align: middle;\n",
       "    }\n",
       "\n",
       "    .dataframe tbody tr th {\n",
       "        vertical-align: top;\n",
       "    }\n",
       "\n",
       "    .dataframe thead th {\n",
       "        text-align: right;\n",
       "    }\n",
       "</style>\n",
       "<table border=\"1\" class=\"dataframe\">\n",
       "  <thead>\n",
       "    <tr style=\"text-align: right;\">\n",
       "      <th></th>\n",
       "      <th>movieId</th>\n",
       "      <th>title</th>\n",
       "      <th>genres</th>\n",
       "    </tr>\n",
       "  </thead>\n",
       "  <tbody>\n",
       "    <tr>\n",
       "      <th>0</th>\n",
       "      <td>1</td>\n",
       "      <td>Toy Story (1995)</td>\n",
       "      <td>Adventure|Animation|Children|Comedy|Fantasy</td>\n",
       "    </tr>\n",
       "    <tr>\n",
       "      <th>1</th>\n",
       "      <td>2</td>\n",
       "      <td>Jumanji (1995)</td>\n",
       "      <td>Adventure|Children|Fantasy</td>\n",
       "    </tr>\n",
       "    <tr>\n",
       "      <th>2</th>\n",
       "      <td>3</td>\n",
       "      <td>Grumpier Old Men (1995)</td>\n",
       "      <td>Comedy|Romance</td>\n",
       "    </tr>\n",
       "    <tr>\n",
       "      <th>3</th>\n",
       "      <td>4</td>\n",
       "      <td>Waiting to Exhale (1995)</td>\n",
       "      <td>Comedy|Drama|Romance</td>\n",
       "    </tr>\n",
       "    <tr>\n",
       "      <th>4</th>\n",
       "      <td>5</td>\n",
       "      <td>Father of the Bride Part II (1995)</td>\n",
       "      <td>Comedy</td>\n",
       "    </tr>\n",
       "    <tr>\n",
       "      <th>5</th>\n",
       "      <td>6</td>\n",
       "      <td>Heat (1995)</td>\n",
       "      <td>Action|Crime|Thriller</td>\n",
       "    </tr>\n",
       "    <tr>\n",
       "      <th>6</th>\n",
       "      <td>7</td>\n",
       "      <td>Sabrina (1995)</td>\n",
       "      <td>Comedy|Romance</td>\n",
       "    </tr>\n",
       "    <tr>\n",
       "      <th>7</th>\n",
       "      <td>8</td>\n",
       "      <td>Tom and Huck (1995)</td>\n",
       "      <td>Adventure|Children</td>\n",
       "    </tr>\n",
       "    <tr>\n",
       "      <th>8</th>\n",
       "      <td>9</td>\n",
       "      <td>Sudden Death (1995)</td>\n",
       "      <td>Action</td>\n",
       "    </tr>\n",
       "    <tr>\n",
       "      <th>9</th>\n",
       "      <td>10</td>\n",
       "      <td>GoldenEye (1995)</td>\n",
       "      <td>Action|Adventure|Thriller</td>\n",
       "    </tr>\n",
       "  </tbody>\n",
       "</table>\n",
       "</div>"
      ],
      "text/plain": [
       "   movieId                               title  \\\n",
       "0        1                    Toy Story (1995)   \n",
       "1        2                      Jumanji (1995)   \n",
       "2        3             Grumpier Old Men (1995)   \n",
       "3        4            Waiting to Exhale (1995)   \n",
       "4        5  Father of the Bride Part II (1995)   \n",
       "5        6                         Heat (1995)   \n",
       "6        7                      Sabrina (1995)   \n",
       "7        8                 Tom and Huck (1995)   \n",
       "8        9                 Sudden Death (1995)   \n",
       "9       10                    GoldenEye (1995)   \n",
       "\n",
       "                                        genres  \n",
       "0  Adventure|Animation|Children|Comedy|Fantasy  \n",
       "1                   Adventure|Children|Fantasy  \n",
       "2                               Comedy|Romance  \n",
       "3                         Comedy|Drama|Romance  \n",
       "4                                       Comedy  \n",
       "5                        Action|Crime|Thriller  \n",
       "6                               Comedy|Romance  \n",
       "7                           Adventure|Children  \n",
       "8                                       Action  \n",
       "9                    Action|Adventure|Thriller  "
      ]
     },
     "execution_count": 72,
     "metadata": {},
     "output_type": "execute_result"
    }
   ],
   "source": [
    "movie = pd.read_csv(\"movies.csv\")\n",
    "movie.head(10)"
   ]
  },
  {
   "cell_type": "code",
   "execution_count": 73,
   "metadata": {},
   "outputs": [
    {
     "data": {
      "text/plain": [
       "(9742, 3)"
      ]
     },
     "execution_count": 73,
     "metadata": {},
     "output_type": "execute_result"
    }
   ],
   "source": [
    "movie.shape"
   ]
  },
  {
   "cell_type": "code",
   "execution_count": 74,
   "metadata": {
    "scrolled": true
   },
   "outputs": [
    {
     "data": {
      "text/plain": [
       "False"
      ]
     },
     "execution_count": 74,
     "metadata": {},
     "output_type": "execute_result"
    }
   ],
   "source": [
    "movie.isna().values.any()"
   ]
  },
  {
   "cell_type": "markdown",
   "metadata": {},
   "source": [
    "As seen from above, there are 9742 movies in the given movies dataset and their respective genres have been indicated. In addition, there are no missing values in the movies dataset. We will now explore the ratings dataset. "
   ]
  },
  {
   "cell_type": "code",
   "execution_count": 75,
   "metadata": {},
   "outputs": [
    {
     "data": {
      "text/html": [
       "<div>\n",
       "<style scoped>\n",
       "    .dataframe tbody tr th:only-of-type {\n",
       "        vertical-align: middle;\n",
       "    }\n",
       "\n",
       "    .dataframe tbody tr th {\n",
       "        vertical-align: top;\n",
       "    }\n",
       "\n",
       "    .dataframe thead th {\n",
       "        text-align: right;\n",
       "    }\n",
       "</style>\n",
       "<table border=\"1\" class=\"dataframe\">\n",
       "  <thead>\n",
       "    <tr style=\"text-align: right;\">\n",
       "      <th></th>\n",
       "      <th>userId</th>\n",
       "      <th>movieId</th>\n",
       "      <th>rating</th>\n",
       "      <th>timestamp</th>\n",
       "    </tr>\n",
       "  </thead>\n",
       "  <tbody>\n",
       "    <tr>\n",
       "      <th>0</th>\n",
       "      <td>1</td>\n",
       "      <td>1</td>\n",
       "      <td>4.0</td>\n",
       "      <td>964982703</td>\n",
       "    </tr>\n",
       "    <tr>\n",
       "      <th>1</th>\n",
       "      <td>1</td>\n",
       "      <td>3</td>\n",
       "      <td>4.0</td>\n",
       "      <td>964981247</td>\n",
       "    </tr>\n",
       "    <tr>\n",
       "      <th>2</th>\n",
       "      <td>1</td>\n",
       "      <td>6</td>\n",
       "      <td>4.0</td>\n",
       "      <td>964982224</td>\n",
       "    </tr>\n",
       "    <tr>\n",
       "      <th>3</th>\n",
       "      <td>1</td>\n",
       "      <td>47</td>\n",
       "      <td>5.0</td>\n",
       "      <td>964983815</td>\n",
       "    </tr>\n",
       "    <tr>\n",
       "      <th>4</th>\n",
       "      <td>1</td>\n",
       "      <td>50</td>\n",
       "      <td>5.0</td>\n",
       "      <td>964982931</td>\n",
       "    </tr>\n",
       "    <tr>\n",
       "      <th>5</th>\n",
       "      <td>1</td>\n",
       "      <td>70</td>\n",
       "      <td>3.0</td>\n",
       "      <td>964982400</td>\n",
       "    </tr>\n",
       "    <tr>\n",
       "      <th>6</th>\n",
       "      <td>1</td>\n",
       "      <td>101</td>\n",
       "      <td>5.0</td>\n",
       "      <td>964980868</td>\n",
       "    </tr>\n",
       "    <tr>\n",
       "      <th>7</th>\n",
       "      <td>1</td>\n",
       "      <td>110</td>\n",
       "      <td>4.0</td>\n",
       "      <td>964982176</td>\n",
       "    </tr>\n",
       "    <tr>\n",
       "      <th>8</th>\n",
       "      <td>1</td>\n",
       "      <td>151</td>\n",
       "      <td>5.0</td>\n",
       "      <td>964984041</td>\n",
       "    </tr>\n",
       "    <tr>\n",
       "      <th>9</th>\n",
       "      <td>1</td>\n",
       "      <td>157</td>\n",
       "      <td>5.0</td>\n",
       "      <td>964984100</td>\n",
       "    </tr>\n",
       "  </tbody>\n",
       "</table>\n",
       "</div>"
      ],
      "text/plain": [
       "   userId  movieId  rating  timestamp\n",
       "0       1        1     4.0  964982703\n",
       "1       1        3     4.0  964981247\n",
       "2       1        6     4.0  964982224\n",
       "3       1       47     5.0  964983815\n",
       "4       1       50     5.0  964982931\n",
       "5       1       70     3.0  964982400\n",
       "6       1      101     5.0  964980868\n",
       "7       1      110     4.0  964982176\n",
       "8       1      151     5.0  964984041\n",
       "9       1      157     5.0  964984100"
      ]
     },
     "execution_count": 75,
     "metadata": {},
     "output_type": "execute_result"
    }
   ],
   "source": [
    "rating = pd.read_csv(\"ratings.csv\")\n",
    "rating.head(10)"
   ]
  },
  {
   "cell_type": "code",
   "execution_count": 76,
   "metadata": {},
   "outputs": [
    {
     "data": {
      "text/plain": [
       "(100836, 4)"
      ]
     },
     "execution_count": 76,
     "metadata": {},
     "output_type": "execute_result"
    }
   ],
   "source": [
    "rating.shape"
   ]
  },
  {
   "cell_type": "code",
   "execution_count": 77,
   "metadata": {},
   "outputs": [
    {
     "data": {
      "text/plain": [
       "414    2698\n",
       "599    2478\n",
       "474    2108\n",
       "448    1864\n",
       "274    1346\n",
       "       ... \n",
       "406      20\n",
       "595      20\n",
       "569      20\n",
       "431      20\n",
       "442      20\n",
       "Name: userId, Length: 610, dtype: int64"
      ]
     },
     "execution_count": 77,
     "metadata": {},
     "output_type": "execute_result"
    }
   ],
   "source": [
    "rating['userId'].value_counts()"
   ]
  },
  {
   "cell_type": "code",
   "execution_count": 78,
   "metadata": {},
   "outputs": [
    {
     "data": {
      "text/plain": [
       "356       329\n",
       "318       317\n",
       "296       307\n",
       "593       279\n",
       "2571      278\n",
       "         ... \n",
       "5986        1\n",
       "100304      1\n",
       "34800       1\n",
       "83976       1\n",
       "8196        1\n",
       "Name: movieId, Length: 9724, dtype: int64"
      ]
     },
     "execution_count": 78,
     "metadata": {},
     "output_type": "execute_result"
    }
   ],
   "source": [
    "rating['movieId'].value_counts()"
   ]
  },
  {
   "cell_type": "code",
   "execution_count": 79,
   "metadata": {},
   "outputs": [
    {
     "data": {
      "text/plain": [
       "False"
      ]
     },
     "execution_count": 79,
     "metadata": {},
     "output_type": "execute_result"
    }
   ],
   "source": [
    "rating.isna().values.any()"
   ]
  },
  {
   "cell_type": "markdown",
   "metadata": {},
   "source": [
    "As seen from above, there are 100836 ratings contributed by 610 unique users for 9724 movies. Similar to the movies dataset, there are no missing values in the ratings dataset. "
   ]
  },
  {
   "cell_type": "markdown",
   "metadata": {},
   "source": [
    "## 3. Popularity Recommender\n",
    "\n",
    "A simple recommender is developed to simply recommend the top 10 popular movies. "
   ]
  },
  {
   "cell_type": "code",
   "execution_count": 80,
   "metadata": {},
   "outputs": [
    {
     "data": {
      "text/html": [
       "<div>\n",
       "<style scoped>\n",
       "    .dataframe tbody tr th:only-of-type {\n",
       "        vertical-align: middle;\n",
       "    }\n",
       "\n",
       "    .dataframe tbody tr th {\n",
       "        vertical-align: top;\n",
       "    }\n",
       "\n",
       "    .dataframe thead th {\n",
       "        text-align: right;\n",
       "    }\n",
       "</style>\n",
       "<table border=\"1\" class=\"dataframe\">\n",
       "  <thead>\n",
       "    <tr style=\"text-align: right;\">\n",
       "      <th></th>\n",
       "      <th>sum</th>\n",
       "    </tr>\n",
       "    <tr>\n",
       "      <th>movieId</th>\n",
       "      <th></th>\n",
       "    </tr>\n",
       "  </thead>\n",
       "  <tbody>\n",
       "    <tr>\n",
       "      <th>1</th>\n",
       "      <td>843.0</td>\n",
       "    </tr>\n",
       "    <tr>\n",
       "      <th>2</th>\n",
       "      <td>377.5</td>\n",
       "    </tr>\n",
       "    <tr>\n",
       "      <th>3</th>\n",
       "      <td>169.5</td>\n",
       "    </tr>\n",
       "    <tr>\n",
       "      <th>4</th>\n",
       "      <td>16.5</td>\n",
       "    </tr>\n",
       "    <tr>\n",
       "      <th>5</th>\n",
       "      <td>150.5</td>\n",
       "    </tr>\n",
       "    <tr>\n",
       "      <th>...</th>\n",
       "      <td>...</td>\n",
       "    </tr>\n",
       "    <tr>\n",
       "      <th>193581</th>\n",
       "      <td>4.0</td>\n",
       "    </tr>\n",
       "    <tr>\n",
       "      <th>193583</th>\n",
       "      <td>3.5</td>\n",
       "    </tr>\n",
       "    <tr>\n",
       "      <th>193585</th>\n",
       "      <td>3.5</td>\n",
       "    </tr>\n",
       "    <tr>\n",
       "      <th>193587</th>\n",
       "      <td>3.5</td>\n",
       "    </tr>\n",
       "    <tr>\n",
       "      <th>193609</th>\n",
       "      <td>4.0</td>\n",
       "    </tr>\n",
       "  </tbody>\n",
       "</table>\n",
       "<p>9724 rows × 1 columns</p>\n",
       "</div>"
      ],
      "text/plain": [
       "           sum\n",
       "movieId       \n",
       "1        843.0\n",
       "2        377.5\n",
       "3        169.5\n",
       "4         16.5\n",
       "5        150.5\n",
       "...        ...\n",
       "193581     4.0\n",
       "193583     3.5\n",
       "193585     3.5\n",
       "193587     3.5\n",
       "193609     4.0\n",
       "\n",
       "[9724 rows x 1 columns]"
      ]
     },
     "execution_count": 80,
     "metadata": {},
     "output_type": "execute_result"
    }
   ],
   "source": [
    "popular = rating.groupby(['movieId'])['rating'].agg([sum])\n",
    "popular"
   ]
  },
  {
   "cell_type": "code",
   "execution_count": 81,
   "metadata": {},
   "outputs": [],
   "source": [
    "popular['count'] = rating.groupby(['movieId'])['movieId'].count()"
   ]
  },
  {
   "cell_type": "code",
   "execution_count": 82,
   "metadata": {
    "scrolled": true
   },
   "outputs": [
    {
     "data": {
      "text/html": [
       "<div>\n",
       "<style scoped>\n",
       "    .dataframe tbody tr th:only-of-type {\n",
       "        vertical-align: middle;\n",
       "    }\n",
       "\n",
       "    .dataframe tbody tr th {\n",
       "        vertical-align: top;\n",
       "    }\n",
       "\n",
       "    .dataframe thead th {\n",
       "        text-align: right;\n",
       "    }\n",
       "</style>\n",
       "<table border=\"1\" class=\"dataframe\">\n",
       "  <thead>\n",
       "    <tr style=\"text-align: right;\">\n",
       "      <th></th>\n",
       "      <th>sum</th>\n",
       "      <th>count</th>\n",
       "      <th>avgscore</th>\n",
       "    </tr>\n",
       "    <tr>\n",
       "      <th>movieId</th>\n",
       "      <th></th>\n",
       "      <th></th>\n",
       "      <th></th>\n",
       "    </tr>\n",
       "  </thead>\n",
       "  <tbody>\n",
       "    <tr>\n",
       "      <th>1</th>\n",
       "      <td>843.0</td>\n",
       "      <td>215</td>\n",
       "      <td>3.920930</td>\n",
       "    </tr>\n",
       "    <tr>\n",
       "      <th>2</th>\n",
       "      <td>377.5</td>\n",
       "      <td>110</td>\n",
       "      <td>3.431818</td>\n",
       "    </tr>\n",
       "    <tr>\n",
       "      <th>3</th>\n",
       "      <td>169.5</td>\n",
       "      <td>52</td>\n",
       "      <td>3.259615</td>\n",
       "    </tr>\n",
       "    <tr>\n",
       "      <th>4</th>\n",
       "      <td>16.5</td>\n",
       "      <td>7</td>\n",
       "      <td>2.357143</td>\n",
       "    </tr>\n",
       "    <tr>\n",
       "      <th>5</th>\n",
       "      <td>150.5</td>\n",
       "      <td>49</td>\n",
       "      <td>3.071429</td>\n",
       "    </tr>\n",
       "    <tr>\n",
       "      <th>...</th>\n",
       "      <td>...</td>\n",
       "      <td>...</td>\n",
       "      <td>...</td>\n",
       "    </tr>\n",
       "    <tr>\n",
       "      <th>193581</th>\n",
       "      <td>4.0</td>\n",
       "      <td>1</td>\n",
       "      <td>4.000000</td>\n",
       "    </tr>\n",
       "    <tr>\n",
       "      <th>193583</th>\n",
       "      <td>3.5</td>\n",
       "      <td>1</td>\n",
       "      <td>3.500000</td>\n",
       "    </tr>\n",
       "    <tr>\n",
       "      <th>193585</th>\n",
       "      <td>3.5</td>\n",
       "      <td>1</td>\n",
       "      <td>3.500000</td>\n",
       "    </tr>\n",
       "    <tr>\n",
       "      <th>193587</th>\n",
       "      <td>3.5</td>\n",
       "      <td>1</td>\n",
       "      <td>3.500000</td>\n",
       "    </tr>\n",
       "    <tr>\n",
       "      <th>193609</th>\n",
       "      <td>4.0</td>\n",
       "      <td>1</td>\n",
       "      <td>4.000000</td>\n",
       "    </tr>\n",
       "  </tbody>\n",
       "</table>\n",
       "<p>9724 rows × 3 columns</p>\n",
       "</div>"
      ],
      "text/plain": [
       "           sum  count  avgscore\n",
       "movieId                        \n",
       "1        843.0    215  3.920930\n",
       "2        377.5    110  3.431818\n",
       "3        169.5     52  3.259615\n",
       "4         16.5      7  2.357143\n",
       "5        150.5     49  3.071429\n",
       "...        ...    ...       ...\n",
       "193581     4.0      1  4.000000\n",
       "193583     3.5      1  3.500000\n",
       "193585     3.5      1  3.500000\n",
       "193587     3.5      1  3.500000\n",
       "193609     4.0      1  4.000000\n",
       "\n",
       "[9724 rows x 3 columns]"
      ]
     },
     "execution_count": 82,
     "metadata": {},
     "output_type": "execute_result"
    }
   ],
   "source": [
    "popular['avgscore'] = popular['sum']/popular['count']\n",
    "popular"
   ]
  },
  {
   "cell_type": "markdown",
   "metadata": {},
   "source": [
    "Looking at the table above, it can be seen that there are movies which are highly rated but with low number of ratings. To take into account the number of ratings, ie popularity factor, a simple weighted average of the movie score would be computed below."
   ]
  },
  {
   "cell_type": "code",
   "execution_count": 83,
   "metadata": {},
   "outputs": [
    {
     "data": {
      "text/html": [
       "<div>\n",
       "<style scoped>\n",
       "    .dataframe tbody tr th:only-of-type {\n",
       "        vertical-align: middle;\n",
       "    }\n",
       "\n",
       "    .dataframe tbody tr th {\n",
       "        vertical-align: top;\n",
       "    }\n",
       "\n",
       "    .dataframe thead th {\n",
       "        text-align: right;\n",
       "    }\n",
       "</style>\n",
       "<table border=\"1\" class=\"dataframe\">\n",
       "  <thead>\n",
       "    <tr style=\"text-align: right;\">\n",
       "      <th></th>\n",
       "      <th>movieId</th>\n",
       "      <th>sum</th>\n",
       "      <th>count</th>\n",
       "      <th>avgscore</th>\n",
       "      <th>popularity</th>\n",
       "    </tr>\n",
       "  </thead>\n",
       "  <tbody>\n",
       "    <tr>\n",
       "      <th>0</th>\n",
       "      <td>1</td>\n",
       "      <td>843.0</td>\n",
       "      <td>215</td>\n",
       "      <td>3.920930</td>\n",
       "      <td>0.008360</td>\n",
       "    </tr>\n",
       "    <tr>\n",
       "      <th>1</th>\n",
       "      <td>2</td>\n",
       "      <td>377.5</td>\n",
       "      <td>110</td>\n",
       "      <td>3.431818</td>\n",
       "      <td>0.003744</td>\n",
       "    </tr>\n",
       "    <tr>\n",
       "      <th>2</th>\n",
       "      <td>3</td>\n",
       "      <td>169.5</td>\n",
       "      <td>52</td>\n",
       "      <td>3.259615</td>\n",
       "      <td>0.001681</td>\n",
       "    </tr>\n",
       "    <tr>\n",
       "      <th>3</th>\n",
       "      <td>4</td>\n",
       "      <td>16.5</td>\n",
       "      <td>7</td>\n",
       "      <td>2.357143</td>\n",
       "      <td>0.000164</td>\n",
       "    </tr>\n",
       "    <tr>\n",
       "      <th>4</th>\n",
       "      <td>5</td>\n",
       "      <td>150.5</td>\n",
       "      <td>49</td>\n",
       "      <td>3.071429</td>\n",
       "      <td>0.001493</td>\n",
       "    </tr>\n",
       "    <tr>\n",
       "      <th>...</th>\n",
       "      <td>...</td>\n",
       "      <td>...</td>\n",
       "      <td>...</td>\n",
       "      <td>...</td>\n",
       "      <td>...</td>\n",
       "    </tr>\n",
       "    <tr>\n",
       "      <th>9719</th>\n",
       "      <td>193581</td>\n",
       "      <td>4.0</td>\n",
       "      <td>1</td>\n",
       "      <td>4.000000</td>\n",
       "      <td>0.000040</td>\n",
       "    </tr>\n",
       "    <tr>\n",
       "      <th>9720</th>\n",
       "      <td>193583</td>\n",
       "      <td>3.5</td>\n",
       "      <td>1</td>\n",
       "      <td>3.500000</td>\n",
       "      <td>0.000035</td>\n",
       "    </tr>\n",
       "    <tr>\n",
       "      <th>9721</th>\n",
       "      <td>193585</td>\n",
       "      <td>3.5</td>\n",
       "      <td>1</td>\n",
       "      <td>3.500000</td>\n",
       "      <td>0.000035</td>\n",
       "    </tr>\n",
       "    <tr>\n",
       "      <th>9722</th>\n",
       "      <td>193587</td>\n",
       "      <td>3.5</td>\n",
       "      <td>1</td>\n",
       "      <td>3.500000</td>\n",
       "      <td>0.000035</td>\n",
       "    </tr>\n",
       "    <tr>\n",
       "      <th>9723</th>\n",
       "      <td>193609</td>\n",
       "      <td>4.0</td>\n",
       "      <td>1</td>\n",
       "      <td>4.000000</td>\n",
       "      <td>0.000040</td>\n",
       "    </tr>\n",
       "  </tbody>\n",
       "</table>\n",
       "<p>9724 rows × 5 columns</p>\n",
       "</div>"
      ],
      "text/plain": [
       "      movieId    sum  count  avgscore  popularity\n",
       "0           1  843.0    215  3.920930    0.008360\n",
       "1           2  377.5    110  3.431818    0.003744\n",
       "2           3  169.5     52  3.259615    0.001681\n",
       "3           4   16.5      7  2.357143    0.000164\n",
       "4           5  150.5     49  3.071429    0.001493\n",
       "...       ...    ...    ...       ...         ...\n",
       "9719   193581    4.0      1  4.000000    0.000040\n",
       "9720   193583    3.5      1  3.500000    0.000035\n",
       "9721   193585    3.5      1  3.500000    0.000035\n",
       "9722   193587    3.5      1  3.500000    0.000035\n",
       "9723   193609    4.0      1  4.000000    0.000040\n",
       "\n",
       "[9724 rows x 5 columns]"
      ]
     },
     "execution_count": 83,
     "metadata": {},
     "output_type": "execute_result"
    }
   ],
   "source": [
    "totalcount = popular['count'].sum()\n",
    "popular['popularity'] = (popular['count']/totalcount)*popular['avgscore']\n",
    "popular = popular.reset_index()\n",
    "popular"
   ]
  },
  {
   "cell_type": "code",
   "execution_count": 84,
   "metadata": {
    "scrolled": true
   },
   "outputs": [
    {
     "data": {
      "text/html": [
       "<div>\n",
       "<style scoped>\n",
       "    .dataframe tbody tr th:only-of-type {\n",
       "        vertical-align: middle;\n",
       "    }\n",
       "\n",
       "    .dataframe tbody tr th {\n",
       "        vertical-align: top;\n",
       "    }\n",
       "\n",
       "    .dataframe thead th {\n",
       "        text-align: right;\n",
       "    }\n",
       "</style>\n",
       "<table border=\"1\" class=\"dataframe\">\n",
       "  <thead>\n",
       "    <tr style=\"text-align: right;\">\n",
       "      <th></th>\n",
       "      <th>movieId</th>\n",
       "      <th>sum</th>\n",
       "      <th>count</th>\n",
       "      <th>avgscore</th>\n",
       "      <th>popularity</th>\n",
       "      <th>title</th>\n",
       "      <th>genres</th>\n",
       "    </tr>\n",
       "  </thead>\n",
       "  <tbody>\n",
       "    <tr>\n",
       "      <th>0</th>\n",
       "      <td>1</td>\n",
       "      <td>843.0</td>\n",
       "      <td>215</td>\n",
       "      <td>3.920930</td>\n",
       "      <td>0.008360</td>\n",
       "      <td>Toy Story (1995)</td>\n",
       "      <td>Adventure|Animation|Children|Comedy|Fantasy</td>\n",
       "    </tr>\n",
       "    <tr>\n",
       "      <th>1</th>\n",
       "      <td>2</td>\n",
       "      <td>377.5</td>\n",
       "      <td>110</td>\n",
       "      <td>3.431818</td>\n",
       "      <td>0.003744</td>\n",
       "      <td>Jumanji (1995)</td>\n",
       "      <td>Adventure|Children|Fantasy</td>\n",
       "    </tr>\n",
       "    <tr>\n",
       "      <th>2</th>\n",
       "      <td>3</td>\n",
       "      <td>169.5</td>\n",
       "      <td>52</td>\n",
       "      <td>3.259615</td>\n",
       "      <td>0.001681</td>\n",
       "      <td>Grumpier Old Men (1995)</td>\n",
       "      <td>Comedy|Romance</td>\n",
       "    </tr>\n",
       "    <tr>\n",
       "      <th>3</th>\n",
       "      <td>4</td>\n",
       "      <td>16.5</td>\n",
       "      <td>7</td>\n",
       "      <td>2.357143</td>\n",
       "      <td>0.000164</td>\n",
       "      <td>Waiting to Exhale (1995)</td>\n",
       "      <td>Comedy|Drama|Romance</td>\n",
       "    </tr>\n",
       "    <tr>\n",
       "      <th>4</th>\n",
       "      <td>5</td>\n",
       "      <td>150.5</td>\n",
       "      <td>49</td>\n",
       "      <td>3.071429</td>\n",
       "      <td>0.001493</td>\n",
       "      <td>Father of the Bride Part II (1995)</td>\n",
       "      <td>Comedy</td>\n",
       "    </tr>\n",
       "    <tr>\n",
       "      <th>...</th>\n",
       "      <td>...</td>\n",
       "      <td>...</td>\n",
       "      <td>...</td>\n",
       "      <td>...</td>\n",
       "      <td>...</td>\n",
       "      <td>...</td>\n",
       "      <td>...</td>\n",
       "    </tr>\n",
       "    <tr>\n",
       "      <th>9719</th>\n",
       "      <td>193581</td>\n",
       "      <td>4.0</td>\n",
       "      <td>1</td>\n",
       "      <td>4.000000</td>\n",
       "      <td>0.000040</td>\n",
       "      <td>Black Butler: Book of the Atlantic (2017)</td>\n",
       "      <td>Action|Animation|Comedy|Fantasy</td>\n",
       "    </tr>\n",
       "    <tr>\n",
       "      <th>9720</th>\n",
       "      <td>193583</td>\n",
       "      <td>3.5</td>\n",
       "      <td>1</td>\n",
       "      <td>3.500000</td>\n",
       "      <td>0.000035</td>\n",
       "      <td>No Game No Life: Zero (2017)</td>\n",
       "      <td>Animation|Comedy|Fantasy</td>\n",
       "    </tr>\n",
       "    <tr>\n",
       "      <th>9721</th>\n",
       "      <td>193585</td>\n",
       "      <td>3.5</td>\n",
       "      <td>1</td>\n",
       "      <td>3.500000</td>\n",
       "      <td>0.000035</td>\n",
       "      <td>Flint (2017)</td>\n",
       "      <td>Drama</td>\n",
       "    </tr>\n",
       "    <tr>\n",
       "      <th>9722</th>\n",
       "      <td>193587</td>\n",
       "      <td>3.5</td>\n",
       "      <td>1</td>\n",
       "      <td>3.500000</td>\n",
       "      <td>0.000035</td>\n",
       "      <td>Bungo Stray Dogs: Dead Apple (2018)</td>\n",
       "      <td>Action|Animation</td>\n",
       "    </tr>\n",
       "    <tr>\n",
       "      <th>9723</th>\n",
       "      <td>193609</td>\n",
       "      <td>4.0</td>\n",
       "      <td>1</td>\n",
       "      <td>4.000000</td>\n",
       "      <td>0.000040</td>\n",
       "      <td>Andrew Dice Clay: Dice Rules (1991)</td>\n",
       "      <td>Comedy</td>\n",
       "    </tr>\n",
       "  </tbody>\n",
       "</table>\n",
       "<p>9724 rows × 7 columns</p>\n",
       "</div>"
      ],
      "text/plain": [
       "      movieId    sum  count  avgscore  popularity  \\\n",
       "0           1  843.0    215  3.920930    0.008360   \n",
       "1           2  377.5    110  3.431818    0.003744   \n",
       "2           3  169.5     52  3.259615    0.001681   \n",
       "3           4   16.5      7  2.357143    0.000164   \n",
       "4           5  150.5     49  3.071429    0.001493   \n",
       "...       ...    ...    ...       ...         ...   \n",
       "9719   193581    4.0      1  4.000000    0.000040   \n",
       "9720   193583    3.5      1  3.500000    0.000035   \n",
       "9721   193585    3.5      1  3.500000    0.000035   \n",
       "9722   193587    3.5      1  3.500000    0.000035   \n",
       "9723   193609    4.0      1  4.000000    0.000040   \n",
       "\n",
       "                                          title  \\\n",
       "0                              Toy Story (1995)   \n",
       "1                                Jumanji (1995)   \n",
       "2                       Grumpier Old Men (1995)   \n",
       "3                      Waiting to Exhale (1995)   \n",
       "4            Father of the Bride Part II (1995)   \n",
       "...                                         ...   \n",
       "9719  Black Butler: Book of the Atlantic (2017)   \n",
       "9720               No Game No Life: Zero (2017)   \n",
       "9721                               Flint (2017)   \n",
       "9722        Bungo Stray Dogs: Dead Apple (2018)   \n",
       "9723        Andrew Dice Clay: Dice Rules (1991)   \n",
       "\n",
       "                                           genres  \n",
       "0     Adventure|Animation|Children|Comedy|Fantasy  \n",
       "1                      Adventure|Children|Fantasy  \n",
       "2                                  Comedy|Romance  \n",
       "3                            Comedy|Drama|Romance  \n",
       "4                                          Comedy  \n",
       "...                                           ...  \n",
       "9719              Action|Animation|Comedy|Fantasy  \n",
       "9720                     Animation|Comedy|Fantasy  \n",
       "9721                                        Drama  \n",
       "9722                             Action|Animation  \n",
       "9723                                       Comedy  \n",
       "\n",
       "[9724 rows x 7 columns]"
      ]
     },
     "execution_count": 84,
     "metadata": {},
     "output_type": "execute_result"
    }
   ],
   "source": [
    "popular = pd.merge(popular,movie, on=\"movieId\", how=\"inner\")\n",
    "popular"
   ]
  },
  {
   "cell_type": "markdown",
   "metadata": {},
   "source": [
    "Information about the respective movies are added to complete the picture. "
   ]
  },
  {
   "cell_type": "code",
   "execution_count": 85,
   "metadata": {},
   "outputs": [
    {
     "data": {
      "text/plain": [
       "277              Shawshank Redemption, The (1994)\n",
       "314                           Forrest Gump (1994)\n",
       "257                           Pulp Fiction (1994)\n",
       "1938                           Matrix, The (1999)\n",
       "510              Silence of the Lambs, The (1991)\n",
       "224     Star Wars: Episode IV - A New Hope (1977)\n",
       "97                              Braveheart (1995)\n",
       "2224                            Fight Club (1999)\n",
       "461                       Schindler's List (1993)\n",
       "418                          Jurassic Park (1993)\n",
       "Name: title, dtype: object"
      ]
     },
     "execution_count": 85,
     "metadata": {},
     "output_type": "execute_result"
    }
   ],
   "source": [
    "popular.sort_values(by=\"popularity\", ascending=False)['title'][:10]"
   ]
  },
  {
   "cell_type": "markdown",
   "metadata": {},
   "source": [
    "As seen above, this simple popularity recommender has recommended the top 10 most popular movies of all time.\n",
    "\n",
    "## 4. Genre-Based Popularity Recommender\n",
    "To further refine the popularity recommender, we could try to take into consideration the preference of genre for a given user. For example, if a user likes comedy movies, a genre-based recommender would propose the top 10 most popular comedy movies of all time as shown above. "
   ]
  },
  {
   "cell_type": "code",
   "execution_count": 86,
   "metadata": {},
   "outputs": [
    {
     "data": {
      "text/plain": [
       "314                  Forrest Gump (1994)\n",
       "257                  Pulp Fiction (1994)\n",
       "0                       Toy Story (1995)\n",
       "520                         Fargo (1996)\n",
       "506                       Aladdin (1992)\n",
       "968            Back to the Future (1985)\n",
       "3189                        Shrek (2001)\n",
       "337                     True Lies (1994)\n",
       "898           Princess Bride, The (1987)\n",
       "1182    Men in Black (a.k.a. MIB) (1997)\n",
       "Name: title, dtype: object"
      ]
     },
     "execution_count": 86,
     "metadata": {},
     "output_type": "execute_result"
    }
   ],
   "source": [
    "popular[popular['genres'].str.contains(\"Comedy\")].sort_values(by=\"popularity\", ascending=False)['title'][:10]"
   ]
  },
  {
   "cell_type": "markdown",
   "metadata": {},
   "source": [
    "The Genre-Based Popularity Recommender function is further developed below by determining the preferred genre of a given user based on movies rated by the user and to recommend the top 10 most popular movies from the same genre which the user has not watched. "
   ]
  },
  {
   "cell_type": "code",
   "execution_count": 121,
   "metadata": {},
   "outputs": [],
   "source": [
    "def genreRec(user, rating, popular):\n",
    "    #find movieId which given user has watched\n",
    "    watched_id = rating[rating[\"userId\"]==testuser]['movieId'].unique()\n",
    "    \n",
    "    #find movies which given user has watched\n",
    "    watched_movies = rating[rating[\"userId\"]==testuser].sort_values(by=\"rating\", ascending=False)[:10][\"movieId\"].values\n",
    "    watched = movie[movie[\"movieId\"].isin(watched_movies)]\n",
    "    print(f\"Examples of movies rated by user {user}:\")\n",
    "    for row in watched.itertuples():\n",
    "        print(row.title, \":\", row.genres) \n",
    "    \n",
    "    #split genres of movies which given user has watched and determine the most frequent genre\n",
    "    topGenre = pd.Series(' '.join(watched['genres']).split(\"|\")).value_counts()[:1]  \n",
    "    print(f\"\\nTop genre of user {user} is {topGenre.index[0]}\\n\")\n",
    "    \n",
    "    #find movieId which given user has not watched\n",
    "    notwatched_id = rating[rating[\"userId\"]!=testuser]['movieId'].unique()\n",
    "    \n",
    "    #find movies which given user has not watched\n",
    "    notwatched = popular[popular[\"movieId\"].isin(notwatched_id)]\n",
    "    \n",
    "    #among the movies which given user has not watched, filter movies from user's preferred genre and return the top 10 most popular ones\n",
    "    print(f\"Movies generated by Genre-Based Popularity Recommender for user {user}:\")\n",
    "    rec_movies = popular[popular['genres'].str.contains(topGenre.index[0])].sort_values(by=\"popularity\", ascending=False)[:10]\n",
    "    for row in rec_movies.itertuples():\n",
    "        print(row.title, \":\", row.genres) "
   ]
  },
  {
   "cell_type": "code",
   "execution_count": 122,
   "metadata": {
    "scrolled": true
   },
   "outputs": [
    {
     "name": "stdout",
     "output_type": "stream",
     "text": [
      "Examples of movies rated by user 41:\n",
      "Shining, The (1980) : Horror\n",
      "Stand by Me (1986) : Adventure|Drama\n",
      "Titanic (1997) : Drama|Romance\n",
      "Rosemary's Baby (1968) : Drama|Horror|Thriller\n",
      "Eyes Wide Shut (1999) : Drama|Mystery|Thriller\n",
      "Cast Away (2000) : Drama\n",
      "Along Came Polly (2004) : Comedy|Romance\n",
      "50 First Dates (2004) : Comedy|Romance\n",
      "Horrible Bosses (2011) : Comedy|Crime\n",
      "Prisoners (2013) : Drama|Mystery|Thriller\n",
      "\n",
      "Top genre of user 41 is Mystery\n",
      "\n",
      "Movies generated by Genre-Based Popularity Recommender for user 41:\n",
      "Usual Suspects, The (1995) : Crime|Mystery|Thriller\n",
      "Seven (a.k.a. Se7en) (1995) : Mystery|Thriller\n",
      "Twelve Monkeys (a.k.a. 12 Monkeys) (1995) : Mystery|Sci-Fi|Thriller\n",
      "Sixth Sense, The (1999) : Drama|Horror|Mystery\n",
      "Memento (2000) : Mystery|Thriller\n",
      "Inception (2010) : Action|Crime|Drama|Mystery|Sci-Fi|Thriller|IMAX\n",
      "Mission: Impossible (1996) : Action|Adventure|Mystery|Thriller\n",
      "Reservoir Dogs (1992) : Crime|Mystery|Thriller\n",
      "Minority Report (2002) : Action|Crime|Mystery|Sci-Fi|Thriller\n",
      "Donnie Darko (2001) : Drama|Mystery|Sci-Fi|Thriller\n"
     ]
    }
   ],
   "source": [
    "#randomly pick a user to generate recommendation\n",
    "testuser = rating[\"userId\"].sample(1).iloc[0]\n",
    "genreRec(testuser, rating, popular)"
   ]
  },
  {
   "cell_type": "markdown",
   "metadata": {},
   "source": [
    "## 5. Collaborative Filtering Recommender\n",
    "\n",
    "To further improve the performance of the movie recommender, we could develop an algorithm which uses collaborative filtering. This is based on the concept that other users who give similar ratings to movies as a given user would most probably have similar preferences. "
   ]
  },
  {
   "cell_type": "code",
   "execution_count": 107,
   "metadata": {},
   "outputs": [
    {
     "data": {
      "text/html": [
       "<div>\n",
       "<style scoped>\n",
       "    .dataframe tbody tr th:only-of-type {\n",
       "        vertical-align: middle;\n",
       "    }\n",
       "\n",
       "    .dataframe tbody tr th {\n",
       "        vertical-align: top;\n",
       "    }\n",
       "\n",
       "    .dataframe thead th {\n",
       "        text-align: right;\n",
       "    }\n",
       "</style>\n",
       "<table border=\"1\" class=\"dataframe\">\n",
       "  <thead>\n",
       "    <tr style=\"text-align: right;\">\n",
       "      <th></th>\n",
       "      <th>userId</th>\n",
       "      <th>movieId</th>\n",
       "      <th>rating</th>\n",
       "      <th>timestamp</th>\n",
       "      <th>enc_user</th>\n",
       "      <th>enc_movie</th>\n",
       "      <th>rating_norm</th>\n",
       "    </tr>\n",
       "  </thead>\n",
       "  <tbody>\n",
       "    <tr>\n",
       "      <th>0</th>\n",
       "      <td>1</td>\n",
       "      <td>1</td>\n",
       "      <td>4.0</td>\n",
       "      <td>964982703</td>\n",
       "      <td>0</td>\n",
       "      <td>0</td>\n",
       "      <td>0.777778</td>\n",
       "    </tr>\n",
       "    <tr>\n",
       "      <th>1</th>\n",
       "      <td>1</td>\n",
       "      <td>3</td>\n",
       "      <td>4.0</td>\n",
       "      <td>964981247</td>\n",
       "      <td>0</td>\n",
       "      <td>1</td>\n",
       "      <td>0.777778</td>\n",
       "    </tr>\n",
       "    <tr>\n",
       "      <th>2</th>\n",
       "      <td>1</td>\n",
       "      <td>6</td>\n",
       "      <td>4.0</td>\n",
       "      <td>964982224</td>\n",
       "      <td>0</td>\n",
       "      <td>2</td>\n",
       "      <td>0.777778</td>\n",
       "    </tr>\n",
       "    <tr>\n",
       "      <th>3</th>\n",
       "      <td>1</td>\n",
       "      <td>47</td>\n",
       "      <td>5.0</td>\n",
       "      <td>964983815</td>\n",
       "      <td>0</td>\n",
       "      <td>3</td>\n",
       "      <td>1.000000</td>\n",
       "    </tr>\n",
       "    <tr>\n",
       "      <th>4</th>\n",
       "      <td>1</td>\n",
       "      <td>50</td>\n",
       "      <td>5.0</td>\n",
       "      <td>964982931</td>\n",
       "      <td>0</td>\n",
       "      <td>4</td>\n",
       "      <td>1.000000</td>\n",
       "    </tr>\n",
       "    <tr>\n",
       "      <th>...</th>\n",
       "      <td>...</td>\n",
       "      <td>...</td>\n",
       "      <td>...</td>\n",
       "      <td>...</td>\n",
       "      <td>...</td>\n",
       "      <td>...</td>\n",
       "      <td>...</td>\n",
       "    </tr>\n",
       "    <tr>\n",
       "      <th>100831</th>\n",
       "      <td>610</td>\n",
       "      <td>166534</td>\n",
       "      <td>4.0</td>\n",
       "      <td>1493848402</td>\n",
       "      <td>609</td>\n",
       "      <td>3120</td>\n",
       "      <td>0.777778</td>\n",
       "    </tr>\n",
       "    <tr>\n",
       "      <th>100832</th>\n",
       "      <td>610</td>\n",
       "      <td>168248</td>\n",
       "      <td>5.0</td>\n",
       "      <td>1493850091</td>\n",
       "      <td>609</td>\n",
       "      <td>2035</td>\n",
       "      <td>1.000000</td>\n",
       "    </tr>\n",
       "    <tr>\n",
       "      <th>100833</th>\n",
       "      <td>610</td>\n",
       "      <td>168250</td>\n",
       "      <td>5.0</td>\n",
       "      <td>1494273047</td>\n",
       "      <td>609</td>\n",
       "      <td>3121</td>\n",
       "      <td>1.000000</td>\n",
       "    </tr>\n",
       "    <tr>\n",
       "      <th>100834</th>\n",
       "      <td>610</td>\n",
       "      <td>168252</td>\n",
       "      <td>5.0</td>\n",
       "      <td>1493846352</td>\n",
       "      <td>609</td>\n",
       "      <td>1392</td>\n",
       "      <td>1.000000</td>\n",
       "    </tr>\n",
       "    <tr>\n",
       "      <th>100835</th>\n",
       "      <td>610</td>\n",
       "      <td>170875</td>\n",
       "      <td>3.0</td>\n",
       "      <td>1493846415</td>\n",
       "      <td>609</td>\n",
       "      <td>2873</td>\n",
       "      <td>0.555556</td>\n",
       "    </tr>\n",
       "  </tbody>\n",
       "</table>\n",
       "<p>100836 rows × 7 columns</p>\n",
       "</div>"
      ],
      "text/plain": [
       "        userId  movieId  rating   timestamp  enc_user  enc_movie  rating_norm\n",
       "0            1        1     4.0   964982703         0          0     0.777778\n",
       "1            1        3     4.0   964981247         0          1     0.777778\n",
       "2            1        6     4.0   964982224         0          2     0.777778\n",
       "3            1       47     5.0   964983815         0          3     1.000000\n",
       "4            1       50     5.0   964982931         0          4     1.000000\n",
       "...        ...      ...     ...         ...       ...        ...          ...\n",
       "100831     610   166534     4.0  1493848402       609       3120     0.777778\n",
       "100832     610   168248     5.0  1493850091       609       2035     1.000000\n",
       "100833     610   168250     5.0  1494273047       609       3121     1.000000\n",
       "100834     610   168252     5.0  1493846352       609       1392     1.000000\n",
       "100835     610   170875     3.0  1493846415       609       2873     0.555556\n",
       "\n",
       "[100836 rows x 7 columns]"
      ]
     },
     "execution_count": 107,
     "metadata": {},
     "output_type": "execute_result"
    }
   ],
   "source": [
    "#obtain list of userId and movieId\n",
    "useridlist = list(rating['userId'].unique())\n",
    "movieidlist = list(rating['movieId'].unique())\n",
    "\n",
    "#perform integer encoding on userId and movieId\n",
    "enc_user = {user: encodeidx for encodeidx, user in enumerate(useridlist)}\n",
    "enc_movie = {movie: encodeidx for encodeidx, movie in enumerate(movieidlist)}\n",
    "\n",
    "#map userId and movieId in rating dataframe to the respective encoded integer\n",
    "rating['enc_user'] = rating['userId'].map(enc_user)\n",
    "rating['enc_movie'] = rating['movieId'].map(enc_movie)\n",
    "\n",
    "#perform normalization of rating\n",
    "minrating = rating['rating'].min()\n",
    "maxrating = rating['rating'].max()\n",
    "rating['rating_norm']=(rating['rating']-minrating)/(maxrating-minrating)\n",
    "\n",
    "rating"
   ]
  },
  {
   "cell_type": "code",
   "execution_count": 108,
   "metadata": {},
   "outputs": [],
   "source": [
    "x = rating[[\"enc_user\",\"enc_movie\"]].values\n",
    "y = rating[\"rating_norm\"].values\n",
    "\n",
    "#use 70% of data to train model and reserve remaining 30% for validation of model\n",
    "x_train, x_test, y_train, y_test = train_test_split(x,y, test_size=0.3, random_state=88)\n",
    "\n",
    "#as there will be 2 inputs to the deep learning model used to predict ratings, we will split x_train and x_test into 2 sub-arrays\n",
    "x_train_array = [x_train[:, 0], x_train[:, 1]]\n",
    "x_test_array = [x_test[:, 0], x_test[:, 1]]"
   ]
  },
  {
   "cell_type": "code",
   "execution_count": 109,
   "metadata": {},
   "outputs": [],
   "source": [
    "#A deep learning model is developed using the users and movies that they have rated as inputs and the rating as output. \n",
    "\n",
    "def CFRecModel(num_users, num_movies, num_factors=50):\n",
    "    user = Input(shape=(1,))\n",
    "    u = Embedding(num_users, num_factors, embeddings_initializer='he_normal',\n",
    "                  embeddings_regularizer=l2(1e-6))(user)\n",
    "    u = Reshape((num_factors,))(u)\n",
    "\n",
    "    movie = Input(shape=(1,))\n",
    "    m = Embedding(num_movies, num_factors, embeddings_initializer='he_normal',\n",
    "                      embeddings_regularizer=l2(1e-6))(movie)\n",
    "    m = Reshape((num_factors,))(m)\n",
    "\n",
    "    result = Dot(axes=1)([u,m])\n",
    "\n",
    "    model = Model(inputs=[user,movie], outputs=result)\n",
    "    opt = Adam(lr=0.001)\n",
    "    model.compile(loss=\"mean_squared_error\", optimizer=opt)\n",
    "    \n",
    "    return model"
   ]
  },
  {
   "cell_type": "code",
   "execution_count": 110,
   "metadata": {},
   "outputs": [
    {
     "name": "stdout",
     "output_type": "stream",
     "text": [
      "Model: \"model_1\"\n",
      "__________________________________________________________________________________________________\n",
      "Layer (type)                    Output Shape         Param #     Connected to                     \n",
      "==================================================================================================\n",
      "input_3 (InputLayer)            [(None, 1)]          0                                            \n",
      "__________________________________________________________________________________________________\n",
      "input_4 (InputLayer)            [(None, 1)]          0                                            \n",
      "__________________________________________________________________________________________________\n",
      "embedding_2 (Embedding)         (None, 1, 50)        30500       input_3[0][0]                    \n",
      "__________________________________________________________________________________________________\n",
      "embedding_3 (Embedding)         (None, 1, 50)        486200      input_4[0][0]                    \n",
      "__________________________________________________________________________________________________\n",
      "reshape_2 (Reshape)             (None, 50)           0           embedding_2[0][0]                \n",
      "__________________________________________________________________________________________________\n",
      "reshape_3 (Reshape)             (None, 50)           0           embedding_3[0][0]                \n",
      "__________________________________________________________________________________________________\n",
      "dot_1 (Dot)                     (None, 1)            0           reshape_2[0][0]                  \n",
      "                                                                 reshape_3[0][0]                  \n",
      "==================================================================================================\n",
      "Total params: 516,700\n",
      "Trainable params: 516,700\n",
      "Non-trainable params: 0\n",
      "__________________________________________________________________________________________________\n"
     ]
    }
   ],
   "source": [
    "num_users = len(useridlist)\n",
    "num_movies = len(movieidlist)\n",
    "\n",
    "model = CFRecModel(num_users, num_movies)\n",
    "model.summary()"
   ]
  },
  {
   "cell_type": "code",
   "execution_count": 111,
   "metadata": {},
   "outputs": [
    {
     "name": "stdout",
     "output_type": "stream",
     "text": [
      "Epoch 1/5\n",
      "1103/1103 [==============================] - 12s 10ms/step - loss: 0.4478 - val_loss: 0.1007\n",
      "Epoch 2/5\n",
      "1103/1103 [==============================] - 10s 9ms/step - loss: 0.0694 - val_loss: 0.0663\n",
      "Epoch 3/5\n",
      "1103/1103 [==============================] - 10s 9ms/step - loss: 0.0380 - val_loss: 0.0636\n",
      "Epoch 4/5\n",
      "1103/1103 [==============================] - 10s 9ms/step - loss: 0.0279 - val_loss: 0.0640\n",
      "Epoch 5/5\n",
      "1103/1103 [==============================] - 10s 9ms/step - loss: 0.0212 - val_loss: 0.0653\n"
     ]
    }
   ],
   "source": [
    "history = model.fit(x=x_train_array, y=y_train, batch_size=64, epochs=5, verbose=1, validation_data=(x_test_array, y_test))\n"
   ]
  },
  {
   "cell_type": "code",
   "execution_count": 112,
   "metadata": {},
   "outputs": [
    {
     "data": {
      "image/png": "[encoded data removed]",
      "text/plain": [
       "<Figure size 432x288 with 1 Axes>"
      ]
     },
     "metadata": {
      "needs_background": "light"
     },
     "output_type": "display_data"
    }
   ],
   "source": [
    "plt.plot(history.history[\"loss\"])\n",
    "plt.plot(history.history[\"val_loss\"])\n",
    "plt.title(\"model loss\")\n",
    "plt.ylabel(\"loss\")\n",
    "plt.xlabel(\"epoch\")\n",
    "plt.legend([\"train\", \"test\"], loc=\"upper right\")\n",
    "plt.show()"
   ]
  },
  {
   "cell_type": "markdown",
   "metadata": {},
   "source": [
    "After developing the model above, let's test it out with a random user. A function is created below to generate recommendations with the model created above for a given user. "
   ]
  },
  {
   "cell_type": "code",
   "execution_count": 113,
   "metadata": {},
   "outputs": [],
   "source": [
    "def CFRec(testuser, enc_user, rating, enc_movie):\n",
    "\n",
    "    #find movies which have been watched by given user\n",
    "    watched = rating[rating[\"userId\"]==testuser]\n",
    "    \n",
    "    #print top 10 movies rated by user\n",
    "    top_watched_id = watched.sort_values(by=\"rating\", ascending=False)[:10]\n",
    "    top_watched = movie[movie[\"movieId\"].isin(top_watched_id[\"movieId\"])]\n",
    "    print(f\"Top 10 Movies rated by user {testuser}:\")\n",
    "    for row in top_watched.itertuples():\n",
    "        print(row.title, \":\", row.genres)    \n",
    "    \n",
    "    #obtain encoded integer for given userId\n",
    "    testuser_enc = enc_user.get(testuser)\n",
    "    #find movies which have not been watched by given user\n",
    "    notwatched = rating[rating[\"userId\"]!=testuser][\"movieId\"].unique()\n",
    "\n",
    "    #obtain encoded integer for movies which given user has not watched\n",
    "    notwatched_enc = [[enc_movie.get(x)] for x in notwatched]\n",
    "\n",
    "    #create input for model\n",
    "    user_movie_array = np.hstack(([[testuser_enc]] * len(notwatched), notwatched_enc))\n",
    "    \n",
    "    #use developed model to predict ratings for given user \n",
    "    user_ratings = model.predict([user_movie_array[:,0], user_movie_array[:,1]]).flatten()\n",
    "\n",
    "    #find top 10 movies based on predicted ratings for given user\n",
    "    top_rating = user_ratings.argsort()[::-1]\n",
    "    topmovieids = [enc_movie.get(notwatched_enc[x][0]) for x in top_rating]\n",
    "    recommended_movies = movie[movie[\"movieId\"].isin(topmovieids)][:10]\n",
    "    print(f\"\\nTop 10 movies recommended to user {testuser}:\")\n",
    "    for row in recommended_movies.itertuples():\n",
    "        print(row.title, \":\", row.genres) "
   ]
  },
  {
   "cell_type": "code",
   "execution_count": 123,
   "metadata": {
    "scrolled": true
   },
   "outputs": [
    {
     "name": "stdout",
     "output_type": "stream",
     "text": [
      "Top 10 Movies rated by user 41:\n",
      "Shining, The (1980) : Horror\n",
      "Stand by Me (1986) : Adventure|Drama\n",
      "Titanic (1997) : Drama|Romance\n",
      "Rosemary's Baby (1968) : Drama|Horror|Thriller\n",
      "Eyes Wide Shut (1999) : Drama|Mystery|Thriller\n",
      "Cast Away (2000) : Drama\n",
      "Along Came Polly (2004) : Comedy|Romance\n",
      "50 First Dates (2004) : Comedy|Romance\n",
      "Horrible Bosses (2011) : Comedy|Crime\n",
      "Prisoners (2013) : Drama|Mystery|Thriller\n",
      "\n",
      "Top 10 movies recommended to user 41:\n",
      "Toy Story (1995) : Adventure|Animation|Children|Comedy|Fantasy\n",
      "Jumanji (1995) : Adventure|Children|Fantasy\n",
      "Grumpier Old Men (1995) : Comedy|Romance\n",
      "Waiting to Exhale (1995) : Comedy|Drama|Romance\n",
      "Father of the Bride Part II (1995) : Comedy\n",
      "Heat (1995) : Action|Crime|Thriller\n",
      "Sabrina (1995) : Comedy|Romance\n",
      "Tom and Huck (1995) : Adventure|Children\n",
      "Sudden Death (1995) : Action\n",
      "GoldenEye (1995) : Action|Adventure|Thriller\n"
     ]
    }
   ],
   "source": [
    "#randomly pick a user to generate recommendation\n",
    "CFRec(testuser, enc_user, rating, enc_movie)"
   ]
  },
  {
   "cell_type": "code",
   "execution_count": null,
   "metadata": {},
   "outputs": [],
   "source": []
  }
 ],
 "metadata": {
  "kernelspec": {
   "display_name": "Python 3",
   "language": "python",
   "name": "python3"
  },
  "language_info": {
   "codemirror_mode": {
    "name": "ipython",
    "version": 3
   },
   "file_extension": ".py",
   "mimetype": "text/x-python",
   "name": "python",
   "nbconvert_exporter": "python",
   "pygments_lexer": "ipython3",
   "version": "3.8.3"
  },
  "toc": {
   "base_numbering": 1,
   "nav_menu": {},
   "number_sections": false,
   "sideBar": true,
   "skip_h1_title": false,
   "title_cell": "Table of Contents",
   "title_sidebar": "Contents",
   "toc_cell": false,
   "toc_position": {},
   "toc_section_display": true,
   "toc_window_display": true
  },
  "varInspector": {
   "cols": {
    "lenName": 16,
    "lenType": 16,
    "lenVar": 40
   },
   "kernels_config": {
    "python": {
     "delete_cmd_postfix": "",
     "delete_cmd_prefix": "del ",
     "library": "var_list.py",
     "varRefreshCmd": "print(var_dic_list())"
    },
    "r": {
     "delete_cmd_postfix": ") ",
     "delete_cmd_prefix": "rm(",
     "library": "var_list.r",
     "varRefreshCmd": "cat(var_dic_list()) "
    }
   },
   "types_to_exclude": [
    "module",
    "function",
    "builtin_function_or_method",
    "instance",
    "_Feature"
   ],
   "window_display": false
  }
 },
 "nbformat": 4,
 "nbformat_minor": 2
}
